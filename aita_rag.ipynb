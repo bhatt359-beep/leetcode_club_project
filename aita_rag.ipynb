{
 "cells": [
  {
   "cell_type": "code",
   "execution_count": 1,
   "metadata": {},
   "outputs": [],
   "source": [
    "from langchain_community.document_loaders import PyPDFLoader\n",
    "\n",
    "\n",
    "def extract_text_from_pdf(file_path):\n",
    "    loader = PyPDFLoader(file_path)\n",
    "    documents = loader.load()\n",
    "    return ' '.join([doc.page_content for doc in documents])"
   ]
  },
  {
   "cell_type": "code",
   "execution_count": 2,
   "metadata": {},
   "outputs": [],
   "source": [
    "from langchain_text_splitters import RecursiveCharacterTextSplitter\n",
    "\n",
    "def split_text_into_chunks(text: str, chunk_size: int = 1000, chunk_overlap: int = 200):\n",
    "    text_splitter = RecursiveCharacterTextSplitter(chunk_size=chunk_size, chunk_overlap=chunk_overlap)\n",
    "    return text_splitter.create_documents([text])"
   ]
  },
  {
   "cell_type": "code",
   "execution_count": 3,
   "metadata": {},
   "outputs": [],
   "source": [
    "from langchain_ollama import OllamaEmbeddings\n",
    "from langchain_chroma import Chroma\n",
    "\n",
    "embeddings = OllamaEmbeddings(model=\"nomic-embed-text:latest\", num_gpu=8)\n",
    "\n",
    "def create_vector_store(chunks):\n",
    "    return Chroma.from_documents(chunks, embeddings)"
   ]
  },
  {
   "cell_type": "markdown",
   "metadata": {},
   "source": [
    "Folder Can be found with this S3 link:\n",
    "\n",
    "s3://aita-chroma-db"
   ]
  },
  {
   "cell_type": "code",
   "execution_count": 2,
   "metadata": {},
   "outputs": [
    {
     "data": {
      "text/plain": [
       "'\\nimport os\\nimport hashlib\\n\\nfrom langchain.schema import Document\\nfrom tqdm import tqdm\\n\\ndef deduplicate_documents(docs):\\n    \"\"\"Remove duplicate documents based on text hash.\"\"\"\\n    seen = set()\\n    unique_docs = []\\n    for doc in docs:\\n        # hash page_content\\n        hash_val = hashlib.md5(doc.page_content.strip().encode(\"utf-8\")).hexdigest()\\n        if hash_val not in seen:\\n            seen.add(hash_val)\\n            unique_docs.append(doc)\\n    return unique_docs\\n\\nfolder_path = \\'vector_database_pdfs\\'  # Replace with the actual path to your folder\\n\\n# Get all entries in the directory\\nall_entries = os.listdir(folder_path)\\n\\nchunks = []\\n\\n# Iterate through each entry\\nfor entry_name in tqdm(all_entries):\\n    full_path = os.path.join(folder_path, entry_name)\\n\\n    pdf_text = extract_text_from_pdf(full_path)\\n    # Check if the entry is a file (not a directory)\\n    if os.path.isfile(full_path):\\n        chunks += split_text_into_chunks(pdf_text, chunk_size=1000, chunk_overlap=200)\\n\\n\\nchunks = deduplicate_documents(chunks)\\nprint(\"Deduplicated Documents\")\\n\\n# Create or update persistent DB\\npersist_dir = \"chroma_db\"\\nvector_store = create_vector_store(chunks, persist_dir=persist_dir)\\nvector_store._collection.count()\\n'"
      ]
     },
     "execution_count": 2,
     "metadata": {},
     "output_type": "execute_result"
    }
   ],
   "source": [
    "# Uncomment this if vector database has not been set up yet\n",
    "'''\n",
    "import os\n",
    "import hashlib\n",
    "\n",
    "from langchain.schema import Document\n",
    "from tqdm import tqdm\n",
    "\n",
    "def deduplicate_documents(docs):\n",
    "    \"\"\"Remove duplicate documents based on text hash.\"\"\"\n",
    "    seen = set()\n",
    "    unique_docs = []\n",
    "    for doc in docs:\n",
    "        # hash page_content\n",
    "        hash_val = hashlib.md5(doc.page_content.strip().encode(\"utf-8\")).hexdigest()\n",
    "        if hash_val not in seen:\n",
    "            seen.add(hash_val)\n",
    "            unique_docs.append(doc)\n",
    "    return unique_docs\n",
    "\n",
    "folder_path = 'vector_database_pdfs'  # Replace with the actual path to your folder\n",
    "\n",
    "# Get all entries in the directory\n",
    "all_entries = os.listdir(folder_path)\n",
    "\n",
    "chunks = []\n",
    "\n",
    "# Iterate through each entry\n",
    "for entry_name in tqdm(all_entries):\n",
    "    full_path = os.path.join(folder_path, entry_name)\n",
    "    \n",
    "    pdf_text = extract_text_from_pdf(full_path)\n",
    "    # Check if the entry is a file (not a directory)\n",
    "    if os.path.isfile(full_path):\n",
    "        chunks += split_text_into_chunks(pdf_text, chunk_size=1000, chunk_overlap=200)\n",
    "        \n",
    "        \n",
    "chunks = deduplicate_documents(chunks)\n",
    "print(\"Deduplicated Documents\")\n",
    "\n",
    "# Create or update persistent DB\n",
    "persist_dir = \"chroma_db\"\n",
    "vector_store = create_vector_store(chunks, persist_dir=persist_dir)\n",
    "vector_store._collection.count()\n",
    "'''"
   ]
  },
  {
   "cell_type": "code",
   "execution_count": 4,
   "metadata": {},
   "outputs": [
    {
     "data": {
      "text/plain": [
       "6540"
      ]
     },
     "execution_count": 4,
     "metadata": {},
     "output_type": "execute_result"
    }
   ],
   "source": [
    "vector_store = Chroma(\n",
    "    embedding_function=embeddings,\n",
    "    persist_directory='chroma_db'\n",
    ")\n",
    "\n",
    "vector_store._collection.count()"
   ]
  },
  {
   "cell_type": "code",
   "execution_count": 13,
   "metadata": {},
   "outputs": [],
   "source": [
    "# title = \"AITA for telling my bestfriend I understood why his fiancee is so disappointed that he proposed to her at the gym ?\"\n",
    "\n",
    "# post = \"\"\"I (27f) was excited when my bestfriend (27m) told me he had proposed to his girlfriend (29f). He said he had the proposal on video. I was so confused when the video started out in woman's gym. When I saw his girlfriend on an exercise machine in the video, I had a bad feeling. She looked so shocked and she said yes. She only looked happy for 2 minutes and the rest of the time she gave an insincere smile.\n",
    "\n",
    "# My bestfriend expressed frustration that his fiancee had confessed she wasn't happy with the proposal after he asked her why she looked so sad. He was venting to me and asked me how I feel if a guy proposed to me while I was at the gym. I guess he really expected me to agree with him, but I said I would hate it. I said I don't want to be proposed to when I'm sweaty and stinky at the gym. I basically explained to him that I understood why she was disappointed. My bestfriend called me shallow and a bad friend. Am I the asshole ?\n",
    "# \"\"\"\n",
    "\n",
    "\n",
    "title = \"AITA - Asked a Service Dog owner to move at the Movies.\"\n",
    "\n",
    "post = \"\"\"I 32F was able to get some solo time away from the husband and kids and I wanted to see Freakier Friday. Just wanted to have a drink, eat some popcorn, and watch the sequel to one of my favorite childhood movies.\n",
    "\n",
    "I'm severely allergic to animals. Dogs, cats, and horses. Not anaphylaxis bad, but it's pretty severe. Due to that, I avoid animals like the plague and purposely do not go to dog friendly places. I can generally tell when a dog is near before I even see it.\n",
    "\n",
    "I got to the theater early, got my drink, popcorn and took my seat. I got a top row seat. Ten minutes later, I see a golden retriever (I think) wearing a service dog vest with its owner (20'sF) and it sits 2 rows in front of me, a few seats over. It lays down and appears well behaved. But well behaved dogs are still an issue for me.\n",
    "\n",
    "I gently inquired if it was a service animal. The owner just looks at me and glares at me for a second. In my head, i'm just like \"Fuck\". I speak up again and tell the lady I'm severely allergic and can you at least sit across the theater. She firmly refuses to move and mentions that she's tired of people bothering her about her dog. I was like, I was here first and am settled in. I also asked her to please be reasonable. She says her dog is allowed to be here and basically says too bad for you. I gather my things and angrily told her thanks for ruining the movie for me. She sarcastically says \"bye\" to me. I just left, didn't see the movie. I just went home. AITA here?\n",
    "\n",
    "ETA: I had the aisle seat of the top row. I wanted her to move to the other end of the row she was in or down to the front.\"\"\"\n",
    "\n",
    "ollama_model = 'gpt-oss'"
   ]
  },
  {
   "cell_type": "code",
   "execution_count": 14,
   "metadata": {},
   "outputs": [
    {
     "name": "stdout",
     "output_type": "stream",
     "text": [
      "{'psychology': ['Allergies and health anxiety', 'Cognitive biases (e.g., confirmation bias, anchoring)', 'Psychological reactance', 'Self-identity and personal boundaries', 'Conflict resolution strategies', 'Empathy and perspective-taking', 'Assertiveness and communication styles', 'Social conformity and normative influence', 'Stress and coping mechanisms', 'Perception of service animals and disability stigma'], 'ethical_philosophy': ['Rights-based ethics (individual vs. collective rights)', 'Utilitarianism (balance of happiness and harm)', 'Deontological ethics (duties to others, e.g., ADA compliance)', 'Virtue ethics (courtesy, respect, temperance)', 'Moral duties toward persons with disabilities', 'Legal ethics and the Americans with Disabilities Act (ADA)', 'Distributive justice (fair allocation of public resources)', 'Ethics of accommodating health conditions', 'Principle of non-maleficence (do no harm)', 'Ethical decision-making frameworks for public spaces']}\n"
     ]
    }
   ],
   "source": [
    "from typing import List\n",
    "from pydantic import BaseModel, Field\n",
    "from langchain_ollama import ChatOllama\n",
    "from langchain_core.prompts import ChatPromptTemplate\n",
    "from langchain.output_parsers import PydanticOutputParser\n",
    "\n",
    "class Topics(BaseModel):\n",
    "    psychology: list[str] = Field(..., alias=\"Psychology\")\n",
    "    ethical_philosophy: list[str] = Field(..., alias=\"Ethical Philosophy\")\n",
    "\n",
    "\n",
    "# Create parser\n",
    "parser = PydanticOutputParser(pydantic_object=Topics)\n",
    "\n",
    "# Create model\n",
    "model = ChatOllama(model=ollama_model)\n",
    "\n",
    "# Create prompt with formatting instructions from parser\n",
    "prompt = ChatPromptTemplate.from_messages([\n",
    "    (\"system\", \"\"\"You are an expert in psychology and ethical philosophy, who knows which topics to apply in given scenarios. You give your answers in the given JSON Format:\n",
    "        'Psychology' : *insert list of topics from psychology*,\n",
    "        'Ethical Philosophy' : *insert list of topics from ethical philosophy*\n",
    "     \"\"\"),\n",
    "    (\"user\", \"\"\"Given this post from r/AITA, make a list of topics from psychology and ethical philosophy that would help you find a verdict to this post, and assist the user.\n",
    "\n",
    "Title: {title}\n",
    "Post: {post}\"\"\")\n",
    "]).partial(format_instructions=parser.get_format_instructions())\n",
    "\n",
    "\n",
    "parser = PydanticOutputParser(pydantic_object=Topics)\n",
    "\n",
    "chain = prompt | model | parser\n",
    "topics: Topics = chain.invoke({\"title\": title, \"post\": post})\n",
    "print(topics.model_dump())   # Will print with your lowercase field names\n",
    "\n"
   ]
  },
  {
   "cell_type": "code",
   "execution_count": 15,
   "metadata": {},
   "outputs": [],
   "source": [
    "topics_list = topics.psychology + topics.ethical_philosophy"
   ]
  },
  {
   "cell_type": "code",
   "execution_count": 16,
   "metadata": {},
   "outputs": [
    {
     "name": "stderr",
     "output_type": "stream",
     "text": [
      "100%|██████████| 20/20 [00:00<00:00, 37.33it/s]\n"
     ]
    },
    {
     "name": "stdout",
     "output_type": "stream",
     "text": [
      "80\n",
      "**The Trolley Problem in a Nutshell**\n",
      "\n",
      "Imagine a runaway trolley barreling down a track toward five people who are bound to it. You stand beside a switch that can divert the trolley onto a second track, where it will strike a single person who is also bound. The core question is: *Should you pull the switch?*  The problem is not merely a brain‑teaser; it exposes the competing demands of saving lives versus respecting the autonomy and dignity of the one person at risk.\n",
      "\n",
      "Below is a brief guide to how the most common ethical frameworks treat this dilemma.\n",
      "\n",
      "| Framework | Core Principle | How it Treats the Trolley Problem |\n",
      "|-----------|----------------|-----------------------------------|\n",
      "| **Utilitarianism** | *Greatest overall good* (maximize net happiness or minimize suffering) | The “right” action is the one that yields the highest total benefit. Pulling the switch to save five at the cost of one maximizes net well‑being, so a utilitarian would *definitely* pull the lever. |\n",
      "| **Kantian/Deontological Ethics** | *Duty and universal moral law* (act only according to maxims that can be universalized; treat humanity as an end in itself) | The act of intentionally killing the single person is a violation of a universal moral law—*no one may be killed as a means to an end*.  Even though five are saved, the duty to respect the individual’s right to life overrides the consequential calculus.  A Kantian would therefore *not* pull the switch. |\n",
      "| **Rights Theory** | *Protection of individual rights* (especially the right not to be harmed) | The single person’s right to life is paramount.  If that right can be violated, then the action is morally impermissible, regardless of the benefits to others.  Rights‑theorists would also refuse to pull the switch. |\n",
      "| **Deontological (Other variants)** | *Rule‑based duties* (e.g., “do not kill unless it is your duty to do so”) | Many deontologists share Kant’s stance: the act of killing, even if it saves lives, violates a rule that must not be broken.  Thus, they would *not* pull the lever. |\n",
      "| **Virtue Ethics** | *Character and moral virtues* (justice, compassion, prudence, etc.) | Virtue ethics asks which action a *virtuous* person would do.  A compassionate person might pull the switch to help five people, but a just and respectful person would refrain, because it would be unjust to sacrifice one for the many.  Virtue ethics therefore allows a range of responses, shaped by the particular virtues one values. |\n",
      "\n",
      "### Why These Differences Matter\n",
      "\n",
      "* **Outcome‑oriented vs. duty‑oriented** – Utilitarianism cares about the numbers; Kantian ethics cares about the moral rule that was violated.  \n",
      "* **Individual rights vs. collective welfare** – Rights theory protects the one; utilitarianism focuses on the majority.  \n",
      "* **Character vs. principle** – Virtue ethics centers on the moral agent’s disposition, rather than on abstract rules or calculable outcomes.\n",
      "\n",
      "### Take‑away for the Trolley Problem\n",
      "\n",
      "- **If you value the maximization of overall well‑being, you will pull the switch** (utilitarian).  \n",
      "- **If you value absolute duties or individual rights, you will not pull the switch** (Kantian, rights‑based, most deontological views).  \n",
      "- **If you judge the situation by the virtues a good person would exhibit, you may or may not pull the switch, depending on which virtues you consider most important** (virtue ethics).\n",
      "\n",
      "In short, the trolley problem forces us to pick between different moral priorities: saving lives, upholding duties, protecting rights, or cultivating virtuous character. Each framework gives a clear, though distinct, answer, and the debate continues to illuminate how we think about moral action in real‑world dilemmas.\n"
     ]
    }
   ],
   "source": [
    "from langchain_core.prompts import ChatPromptTemplate\n",
    "from langchain_ollama.llms import OllamaLLM\n",
    "from tqdm import tqdm\n",
    "import re\n",
    "\n",
    "retrieved_docs = []\n",
    "\n",
    "for topic in tqdm(topics_list):\n",
    "    retrieved_docs += vector_store.similarity_search(topic)\n",
    "\n",
    "print(len(retrieved_docs))\n",
    "\n",
    "docs_content = \"\\n\\n\".join(doc.page_content for doc in retrieved_docs)\n",
    "\n",
    "template = \"\"\"\n",
    "    Summarize the context and find applications for these concepts to situations you would find in r/AITA:\n",
    "    {docs_content}\n",
    "\"\"\"\n",
    "\n",
    "prompt = ChatPromptTemplate.from_template(template)\n",
    "\n",
    "model = OllamaLLM(model=ollama_model)\n",
    "\n",
    "chain = prompt | model\n",
    "\n",
    "summarized_docs_content = chain.invoke({\n",
    "    \"docs_content\": docs_content\n",
    "})\n",
    "\n",
    "summarized_docs_content = re.sub(r\"<think>.*?</think>\\s*\", \"\", summarized_docs_content, flags=re.DOTALL)\n",
    "\n",
    "print(summarized_docs_content)"
   ]
  },
  {
   "cell_type": "code",
   "execution_count": 17,
   "metadata": {},
   "outputs": [
    {
     "name": "stdout",
     "output_type": "stream",
     "text": [
      "verdict='YTA' explanation='Your request for the service dog to move around the theater is unreasonable. Under the ADA a service animal is allowed in all public spaces, and the owner is not required to relocate the animal unless there is a direct threat. A more reasonable approach would have been to ask the theater staff for an alternative seat or a different section that could accommodate your allergy. The dog owner is within her rights to keep her animal in the seat she purchased. Your tone—especially the anger expressed at the end—comes across as entitled and dismissive of the service‑dog owner’s rights. Thus, you are the more at fault in this situation.' next_steps='1. If you plan to visit venues again, inform the staff beforehand and ask for a seat in a section that minimizes exposure to animals, or request that the dog be in a different part of the theater. 2. Show consideration for the dog owner: acknowledge her service‑animal duties and avoid direct confrontation. 3. If your allergies are severe, consider carrying an antihistamine or having a small, well‑cleaned, allergen‑free area set up in the theater. 4. Apologize to the dog owner if you feel it’s appropriate, and be respectful of her rights as a service‑animal owner.'\n"
     ]
    }
   ],
   "source": [
    "from langchain_core.output_parsers import PydanticOutputParser\n",
    "from typing import Optional\n",
    "from pydantic import BaseModel, Field\n",
    "from langchain_ollama import ChatOllama\n",
    "from langchain_core.prompts import ChatPromptTemplate\n",
    "\n",
    "\n",
    "# Define schema\n",
    "class AITAComment(BaseModel):\n",
    "    \"\"\"Response to an r/AITA post.\"\"\"\n",
    "    verdict: str = Field(description=\"One of: NTA, YTA, NAH, ESH\")\n",
    "    explanation: str = Field(description=\"Comment describing why the verdict is what it is.\")\n",
    "    next_steps: str = Field(description=\"Advice on what the user should do next.\")\n",
    "\n",
    "parser = PydanticOutputParser(pydantic_object=AITAComment)\n",
    "\n",
    "template = \"\"\"\n",
    "You are an r/AITA commenter with expertise in philosophy and psychology. \n",
    "Give a verdict (NTA, YTA, NAH, ESH), explain why, and suggest next steps.\n",
    "\n",
    "{format_instructions}\n",
    "\n",
    "Context:\n",
    "{context}\n",
    "\n",
    "Title: {title}\n",
    "\n",
    "Post:\n",
    "{post}\n",
    "\"\"\"\n",
    "\n",
    "prompt = ChatPromptTemplate.from_template(\n",
    "    template, \n",
    "    partial_variables={\"format_instructions\": parser.get_format_instructions()}\n",
    ")\n",
    "\n",
    "chain = prompt | model | parser\n",
    "\n",
    "# Run\n",
    "response: AITAComment = chain.invoke({\n",
    "    \"title\": title, \n",
    "    \"post\": post, \n",
    "    \"context\": summarized_docs_content\n",
    "})\n",
    "\n",
    "print(response)\n"
   ]
  },
  {
   "cell_type": "code",
   "execution_count": 18,
   "metadata": {},
   "outputs": [
    {
     "name": "stdout",
     "output_type": "stream",
     "text": [
      "YTA\n"
     ]
    }
   ],
   "source": [
    "print(response.verdict)"
   ]
  },
  {
   "cell_type": "code",
   "execution_count": 19,
   "metadata": {},
   "outputs": [
    {
     "name": "stdout",
     "output_type": "stream",
     "text": [
      "Your request for the service dog to move around the theater is unreasonable. Under the ADA a service animal is allowed in all public spaces, and the owner is not required to relocate the animal unless there is a direct threat. A more reasonable approach would have been to ask the theater staff for an alternative seat or a different section that could accommodate your allergy. The dog owner is within her rights to keep her animal in the seat she purchased. Your tone—especially the anger expressed at the end—comes across as entitled and dismissive of the service‑dog owner’s rights. Thus, you are the more at fault in this situation.\n"
     ]
    }
   ],
   "source": [
    "print(response.explanation)"
   ]
  },
  {
   "cell_type": "code",
   "execution_count": 20,
   "metadata": {},
   "outputs": [
    {
     "name": "stdout",
     "output_type": "stream",
     "text": [
      "1. If you plan to visit venues again, inform the staff beforehand and ask for a seat in a section that minimizes exposure to animals, or request that the dog be in a different part of the theater. 2. Show consideration for the dog owner: acknowledge her service‑animal duties and avoid direct confrontation. 3. If your allergies are severe, consider carrying an antihistamine or having a small, well‑cleaned, allergen‑free area set up in the theater. 4. Apologize to the dog owner if you feel it’s appropriate, and be respectful of her rights as a service‑animal owner.\n"
     ]
    }
   ],
   "source": [
    "print(response.next_steps)"
   ]
  },
  {
   "cell_type": "markdown",
   "metadata": {},
   "source": [
    "# Sources\n",
    "\n",
    "All textbooks come from UMN's open textbook library\n",
    "\n",
    "*Philosophical Ethicsa guidebook for beginners* by, George W. Matthews\n",
    "\n",
    "*Communication in the Real World - An Introduction to Communication Studies* LibreTexts\n",
    "\n",
    "*Introduction to Community Psychology* by Leonard A. Jason, Olya Glantsman, Jack F. O'Brien, and Kaitlyn N. Ramian (Editors)\n",
    "\n",
    "*Introduction to Philosophy: Ethics* by, Frank Aragbonfoh Abumere; Douglas Giles; Ya-Yun (Sherry) Kao; Michael Klenk; Joseph Kranak; Kathryn MacKay; Jeffrey Morgan; Paul Rezkalla; George Matthews (Book Editor); and Christina Hendricks (Series Editor)\n",
    "\n",
    "*Introduction to Ethics: An Open Educational Resource* by Noah Levin Ph.D.\n",
    "\n",
    "*Neuroscience, psychology and conflict management* by Judith Rafferty \n",
    "\n",
    "*Metaethics from a  First Person Standpoint: An Introduction to Moral Philosophy* by Catherine Wilson\n",
    "\n"
   ]
  }
 ],
 "metadata": {
  "kernelspec": {
   "display_name": "AITA",
   "language": "python",
   "name": "python3"
  },
  "language_info": {
   "codemirror_mode": {
    "name": "ipython",
    "version": 3
   },
   "file_extension": ".py",
   "mimetype": "text/x-python",
   "name": "python",
   "nbconvert_exporter": "python",
   "pygments_lexer": "ipython3",
   "version": "3.13.5"
  },
  "orig_nbformat": 4
 },
 "nbformat": 4,
 "nbformat_minor": 2
}
